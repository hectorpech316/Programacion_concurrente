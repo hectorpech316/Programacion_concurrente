{
  "nbformat": 4,
  "nbformat_minor": 0,
  "metadata": {
    "colab": {
      "provenance": [],
      "collapsed_sections": []
    },
    "kernelspec": {
      "name": "python3",
      "display_name": "Python 3"
    },
    "language_info": {
      "name": "python"
    }
  },
  "cells": [
    {
      "cell_type": "markdown",
      "source": [
        "<font size=6.0 color=#78932>\n",
        "    Problema del Puente Estrecho\n"
      ],
      "metadata": {
        "id": "oSjrWp_BooSR"
      }
    },
    {
      "cell_type": "markdown",
      "source": [
        "<font size=5.5 color=#753290>\n",
        "    Héctor Moisés Pech Martínez"
      ],
      "metadata": {
        "id": "BM8avIJQooeb"
      }
    },
    {
      "cell_type": "markdown",
      "source": [
        "Con la intenciónde tener una visualización mental imaginamos el puente con tres carriles, dado que el número máximo de carros posibles antes de colapsar es este. Por otra parte sabemos que cada posición es ocupada por únicamente un carro, por lo que esto será la sección crítica del problema. Por último, buscamos conocer la dirección por la cual se pasa.\n",
        "\n",
        "Definamos cada carril o casilla a partir de un semáforo binario, el puente como un semáforo no binario cuyo valor será 3 y dos banderas, la primera indicará la dirección de circulación mientras que la segunda si el puente se encuentra libre.\n",
        "\n",
        "Con la intención de concer lo valores de la dirección en que se mueven los carros crearemos la clase 'Carro', procedemos a implementar"
      ],
      "metadata": {
        "id": "bn-ji0g-ovRw"
      }
    },
    {
      "cell_type": "markdown",
      "source": [
        "Importamos las librerías auxiliares"
      ],
      "metadata": {
        "id": "88jSp3C4oyUf"
      }
    },
    {
      "cell_type": "code",
      "source": [
        "import multiprocessing as mp\n",
        "import time\n",
        "import random"
      ],
      "metadata": {
        "id": "L-6HUUEgouWt"
      },
      "execution_count": 1,
      "outputs": []
    },
    {
      "cell_type": "code",
      "execution_count": 6,
      "metadata": {
        "id": "NaZ6a9rPocHF"
      },
      "outputs": [],
      "source": [
        "class Carro(): #Definimos la clase\n",
        "  def __init__(self, id):\n",
        "    self.id = id\n",
        "    self.dir = random.randint(0,1)\n",
        "    self.paso = 0"
      ]
    },
    {
      "cell_type": "code",
      "execution_count": 7,
      "metadata": {
        "colab": {
          "base_uri": "https://localhost:8080/"
        },
        "id": "SJ43KYwXocHF",
        "outputId": "1d07581f-1e82-4fad-c4bc-56941da2a036"
      },
      "outputs": [
        {
          "output_type": "stream",
          "name": "stdout",
          "text": [
            "0 1\n"
          ]
        }
      ],
      "source": [
        "carro = Carro(0) #Imprimimos un ejemplo para visualizar el carro\n",
        "print(carro.id, carro.dir)"
      ]
    },
    {
      "cell_type": "code",
      "execution_count": 8,
      "metadata": {
        "id": "nn8tw1MhocHH"
      },
      "outputs": [],
      "source": [
        "def cruza_puente(dirección, ocupado, casillas, puente, carrito): #La clase anterior la definimos con\n",
        "  print(f\"The car number {carrito.id} is coming in direction \\\n",
        "    {'North' if carrito.dir else 'South'}\") #los atributos necesarios para realizar la sincronicazión\n",
        "  while carrito.paso == 0:\n",
        "    if not ocupado.value:\n",
        "      ocupado.value = 1\n",
        "      dirección.value = carrito.dir\n",
        "    if carrito.dir == dirección.value:\n",
        "      print(f\"{carrito.id} will enter to the bridge\")\n",
        "      with puente:\n",
        "        for i, casilla in enumerate(casillas):\n",
        "          print(f\"{carrito.id} is trying to advance {i}\")\n",
        "          with casilla:\n",
        "            print(f\"\\t{carrito.id} enter to {i}\")\n",
        "            time.sleep(random.randint(0, 3))\n",
        "          print(f\"\\t{carrito.id} cross the box {i}\")\n",
        "        carrito.paso = 1\n",
        "    if puente.get_value() == 3:\n",
        "      ocupado.value = 0\n",
        "    time.sleep(random.randint(0, 3))"
      ]
    },
    {
      "cell_type": "code",
      "execution_count": 9,
      "metadata": {
        "colab": {
          "base_uri": "https://localhost:8080/"
        },
        "id": "d3LuOxldocHI",
        "outputId": "e527daef-0f58-4a31-903c-bb8999044668"
      },
      "outputs": [
        {
          "output_type": "stream",
          "name": "stdout",
          "text": [
            "The car number 0 is coming in direction     North\n",
            "The car number 1 is coming in direction     North\n",
            "0 will enter to the bridge1 will enter to the bridge\n",
            "0 is trying to advance 0\n",
            "The car number 2 is coming in direction     NorthThe car number 3 is coming in direction     North\n",
            "1 is trying to advance 0\n",
            "\t0 enter to 0\n",
            "3 will enter to the bridge\n",
            "3 is trying to advance 0\n",
            "2 will enter to the bridge\n",
            "\n",
            "\n",
            "\t1 enter to 0\t0 cross the box 0\n",
            "\t1 cross the box 0\n",
            "1 is trying to advance 1\n",
            "\t1 enter to 1\n",
            "\n",
            "\n",
            "0 is trying to advance 1\t3 enter to 0\n",
            "\t1 cross the box 1\n",
            "\t0 enter to 1\n",
            "1 is trying to advance 2\t0 cross the box 1\n",
            "\t1 enter to 2\n",
            "\n",
            "0 is trying to advance 2\n",
            "\t3 cross the box 0\n",
            "3 is trying to advance 1\n",
            "\t0 enter to 2\n",
            "\t1 cross the box 2\t3 enter to 1\n",
            "\n",
            "2 is trying to advance 0\n",
            "\t2 enter to 0\n",
            "\t3 cross the box 1\n",
            "3 is trying to advance 2\n",
            "\t0 cross the box 2\t3 enter to 2\n",
            "\n",
            "\t3 cross the box 2\n",
            "\t2 cross the box 0\n",
            "2 is trying to advance 1\n",
            "\t2 enter to 1\n",
            "\t2 cross the box 1\n",
            "2 is trying to advance 2\n",
            "\t2 enter to 2\n",
            "\t2 cross the box 2\n"
          ]
        }
      ],
      "source": [
        "if __name__ == '__main__':\n",
        "    num_carritos = 4\n",
        "    carritos = [Carro(i) for i in range(num_carritos)]\n",
        "    casillas = [mp.Semaphore() for _ in range(3)]\n",
        "    puente = mp.Semaphore(len(casillas))\n",
        "    ocupado = mp.Value('i', 0)\n",
        "    direccion = mp.Value('i', 0)\n",
        "\n",
        "    procesos = []\n",
        "    for i in range(num_carritos):\n",
        "        procesos.append(mp.Process(target=cruza_puente,\n",
        "                                   args=(direccion,\n",
        "                                        ocupado,\n",
        "                                        casillas,\n",
        "                                        puente,\n",
        "                                        carritos[i],)))\n",
        "    for proceso in procesos:\n",
        "        proceso.start()\n",
        "\n",
        "    for proceso in procesos:\n",
        "        proceso.join()"
      ]
    }
  ]
}